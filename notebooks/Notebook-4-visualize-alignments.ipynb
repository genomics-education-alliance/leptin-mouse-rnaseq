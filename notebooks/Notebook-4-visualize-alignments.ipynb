{
 "cells": [
  {
   "cell_type": "markdown",
   "metadata": {},
   "source": [
    "# Visualize BAM file alignment at the Leptin gene locus"
   ]
  },
  {
   "cell_type": "markdown",
   "metadata": {},
   "source": [
    "Our results are in the analysed directory"
   ]
  },
  {
   "cell_type": "code",
   "execution_count": null,
   "metadata": {},
   "outputs": [],
   "source": [
    "!ls /home/gea_user/rna-seq-project/kallisto/analyzed"
   ]
  },
  {
   "cell_type": "markdown",
   "metadata": {},
   "source": [
    "**Notice**: In this notebook we will be using the [Python](https://www.python.org/) package [genomeview](https://genomeview.readthedocs.io/en/latest/index.html) to visualize our BAM alignments. All of our normal shell commands will begin with a `!` - python commands will not begin with this character. "
   ]
  },
  {
   "cell_type": "markdown",
   "metadata": {},
   "source": [
    " lets remind ourselves what each of these directories contain:\n",
    "\n",
    "|SRA_Sample\t|SRR Read Name|Sample_Name|\n",
    "|-----------|-------------|-----------|\n",
    "|SRS1794112|SRR5017139|Regular Diet Control 1|\n",
    "|SRS1794102|SRR5017129|Regular Diet Control 2|\n",
    "|SRS1794109|SRR5017136|Regular Diet Control 3|\n",
    "|SRS1794105|SRR5017132|High-Fat Diet Tumor 1|\n",
    "|SRS1794101|SRR5017128|High-Fat Diet Tumor 2|\n",
    "|SRS1794111|SRR5017138|High-Fat Diet Tumor 3|"
   ]
  },
  {
   "cell_type": "markdown",
   "metadata": {},
   "source": [
    "**Optional**: We need a copy of the mouse genome to visualize an alignment of these reads. We can use the following command to download the primary assembly from [ensembl](http://useast.ensembl.org/Mus_musculus/Info/Index). This genome has already been provided for you, but you could change the FTP link to download a genome of your choice for a different dataset. "
   ]
  },
  {
   "cell_type": "code",
   "execution_count": null,
   "metadata": {},
   "outputs": [],
   "source": [
    "# get mouse genome using wget - uncomment the line below\n",
    "#!wget ftp://ftp.ensembl.org/pub/release-97/fasta/mus_musculus/dna/Mus_musculus.GRCm38.dna.primary_assembly.fa.gz\n",
    "\n",
    "# If you import the mouse genome you will also need to decompress it by uncommenting the line below\n",
    "#!gzip -d Mus_musculus.GRCm38.dna.primary_assembly.fa.gz"
   ]
  },
  {
   "cell_type": "markdown",
   "metadata": {},
   "source": [
    "We will make a directory for the downloaded genome (`mkidr -p`) and move (`mv`) the downloaded genome to the new directory. We then use the (`gzip -d`) command to decompress the genome. "
   ]
  },
  {
   "cell_type": "code",
   "execution_count": null,
   "metadata": {},
   "outputs": [],
   "source": [
    "!mkdir -p /home/gea_user/rna-seq-project/genomes"
   ]
  },
  {
   "cell_type": "code",
   "execution_count": null,
   "metadata": {},
   "outputs": [],
   "source": [
    "!mv /home/gea_user/data/pre-imported/genomes/Mus_musculus.GRCm38.dna.primary_assembly.fa /home/gea_user/rna-seq-project/genomes/"
   ]
  },
  {
   "cell_type": "markdown",
   "metadata": {},
   "source": [
    "We will now import the `genomeview` python package"
   ]
  },
  {
   "cell_type": "code",
   "execution_count": null,
   "metadata": {},
   "outputs": [],
   "source": [
    "import genomeview"
   ]
  },
  {
   "cell_type": "markdown",
   "metadata": {},
   "source": [
    "We will specify the datasets ([bam](https://en.wikipedia.org/wiki/SAM_(file_format)) files), as well as the location of our reference genome and the chromosome to visualize (including the start and stop position on the chromosome)"
   ]
  },
  {
   "cell_type": "code",
   "execution_count": null,
   "metadata": {},
   "outputs": [],
   "source": [
    "datasets = {\"Control Diet 1\":\"/home/gea_user/rna-seq-project/kallisto/analyzed/SRR5017139_trimmed.fastq.gz_quant/pseudoalignments.bam\",\n",
    "            \"Control Diet 2\":\"/home/gea_user/rna-seq-project/kallisto/analyzed/SRR5017129_trimmed.fastq.gz_quant/pseudoalignments.bam\",\n",
    "            \"Control Diet 3\":\"/home/gea_user/rna-seq-project/kallisto/analyzed/SRR5017136_trimmed.fastq.gz_quant/pseudoalignments.bam\",\n",
    "           \"High-fat Diet Tumor 1\":\"/home/gea_user/rna-seq-project/kallisto/analyzed/SRR5017132_trimmed.fastq.gz_quant/pseudoalignments.bam\", \n",
    "           \"High-fat Diet Tumor 2\":\"/home/gea_user/rna-seq-project/kallisto/analyzed/SRR5017128_trimmed.fastq.gz_quant/pseudoalignments.bam\", \n",
    "           \"High-fat Diet Tumor 3\":\"/home/gea_user/rna-seq-project/kallisto/analyzed/SRR5017138_trimmed.fastq.gz_quant/pseudoalignments.bam\"}\n",
    "reference = \"/home/gea_user/rna-seq-project/genomes/Mus_musculus.GRCm38.dna.primary_assembly.fa\"\n",
    "chrom = \"chr6\"\n",
    "start = 29060195 \n",
    "end = 29073877\n",
    "visualization = genomeview.visualize_data(datasets, chrom, start, end, reference)"
   ]
  },
  {
   "cell_type": "markdown",
   "metadata": {},
   "source": [
    "Finally, we can visualize the three bam files for each of the control/high-fat diets. The blue tick-marks represent individual RNA-Seq reads that map to this region of the genome (the [leptin gene](https://www.ncbi.nlm.nih.gov/gene/16846)). Clearly, in the mouse tumor samples from the high-fat diet mice, expression of this gene is greatly increased. Although each replicated experiment does not have exactly the same number of mapped reads, there is a clear difference. Further statistical analysis would allow us to further describe the signifigance of the difference. "
   ]
  },
  {
   "cell_type": "code",
   "execution_count": null,
   "metadata": {},
   "outputs": [],
   "source": [
    "visualization"
   ]
  }
 ],
 "metadata": {
  "kernelspec": {
   "display_name": "Python 3",
   "language": "python",
   "name": "python3"
  },
  "language_info": {
   "codemirror_mode": {
    "name": "ipython",
    "version": 3
   },
   "file_extension": ".py",
   "mimetype": "text/x-python",
   "name": "python",
   "nbconvert_exporter": "python",
   "pygments_lexer": "ipython3",
   "version": "3.7.3"
  }
 },
 "nbformat": 4,
 "nbformat_minor": 4
}
