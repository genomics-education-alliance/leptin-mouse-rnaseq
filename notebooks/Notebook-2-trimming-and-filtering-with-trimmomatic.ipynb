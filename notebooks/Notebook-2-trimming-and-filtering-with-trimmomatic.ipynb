{
 "cells": [
  {
   "cell_type": "markdown",
   "metadata": {},
   "source": [
    "# Trimming bad data"
   ]
  },
  {
   "cell_type": "markdown",
   "metadata": {},
   "source": [
    "There are two ways of filtering data: trimming ends that may have very low quality, or removing\n",
    "reads that are low quality. In general, short-read sequence aligners take quality information\n",
    "into account, and so conservative trimming and filtering is not necessary. However, if you have\n",
    "a run with very low quality ends, trimming those ends can help your analysis, especially if you\n",
    "are assembly a de novo transcriptome. "
   ]
  },
  {
   "cell_type": "markdown",
   "metadata": {},
   "source": [
    "There are a number of tools designed to help you control read quality, each with their own\n",
    "benefits. For today, we will use a program called ’Trimmomatic’ because it does a great job of\n",
    "explicitly handling paired-end data like these. To call Trimmomatic, we will use java, and simply pass the arguments we want to use. For more detail\n",
    "on each option, go to the website: [http://www.usadellab.org/cms/?page=trimmomatic](http://www.usadellab.org/cms/?page=trimmomatic).\n",
    "\n",
    "*One Note:*\n",
    "paired-end data requires two outputs for each file, one for those that match the opposite\n",
    "direction read, and one for those that don’t. The code below is an example that may be a helpful\n",
    "starting point; note that the ‘\\’ at the end of each line means ‘put this all on one line; don’t hit\n",
    "return yet’ and can either be copied in directly (and interpreted by the console), or omitted to\n",
    "put everything on one line (interpreted by you)."
   ]
  },
  {
   "cell_type": "markdown",
   "metadata": {},
   "source": [
    "Let's again check our input files to trim: "
   ]
  },
  {
   "cell_type": "code",
   "execution_count": null,
   "metadata": {},
   "outputs": [],
   "source": [
    "cd /home/gea_user/data/pre-imported/sra-fastq\n",
    "ls"
   ]
  },
  {
   "cell_type": "markdown",
   "metadata": {},
   "source": [
    "These are all single end files, and we can use the following loop to process them all using the following options \n",
    "\n",
    "- SE - Single-end reads\n",
    "- threads - Number of CPUs (8) to use to complete this analysis\n",
    "- SLIDINGWINDOW:i:j - Take the average quality of i reads and trim if the average is below j \n",
    "- MINLEN:i - Drop any read if less than i nucleotides after SLIDINGWINDOW trimming"
   ]
  },
  {
   "cell_type": "code",
   "execution_count": null,
   "metadata": {},
   "outputs": [],
   "source": [
    "for infile in /home/gea_user/data/pre-imported/sra-fastq/*.fastq.gz\n",
    " do\n",
    " base=$(basename --suffix=.fastq.gz $infile)\n",
    " trimmomatic \\\n",
    "  SE \\\n",
    "  -threads 8 \\\n",
    "  ${infile} ${base}_trimmed.fastq.gz \\\n",
    "  SLIDINGWINDOW:4:20 MINLEN:75\n",
    " done"
   ]
  },
  {
   "cell_type": "markdown",
   "metadata": {},
   "source": [
    "We now have 6 trimmed fastq files"
   ]
  },
  {
   "cell_type": "code",
   "execution_count": null,
   "metadata": {},
   "outputs": [],
   "source": [
    "ls *_trimmed.fastq.gz"
   ]
  },
  {
   "cell_type": "markdown",
   "metadata": {},
   "source": [
    "let's move these to a directory"
   ]
  },
  {
   "cell_type": "code",
   "execution_count": null,
   "metadata": {},
   "outputs": [],
   "source": [
    "mkdir /home/gea_user/rna-seq-project/trimmed-reads\n",
    "mv *_trimmed.fastq.gz /home/gea_user/rna-seq-project/trimmed-reads"
   ]
  },
  {
   "cell_type": "markdown",
   "metadata": {},
   "source": [
    "Let's run another round of fastqc on the trimmed results to compare"
   ]
  },
  {
   "cell_type": "markdown",
   "metadata": {},
   "source": [
    "## Pre-Computed data (optional)"
   ]
  },
  {
   "cell_type": "markdown",
   "metadata": {},
   "source": [
    "The trimmomatic step can take about an hour to run for these 6 large files. If you don't want to wait, the pre-trimmed files are available"
   ]
  },
  {
   "cell_type": "code",
   "execution_count": null,
   "metadata": {},
   "outputs": [],
   "source": [
    "ls /home/gea_user/data/worked-trimmed-reads"
   ]
  }
 ],
 "metadata": {
  "kernelspec": {
   "display_name": "Bash",
   "language": "bash",
   "name": "bash"
  },
  "language_info": {
   "codemirror_mode": "shell",
   "file_extension": ".sh",
   "mimetype": "text/x-sh",
   "name": "bash"
  }
 },
 "nbformat": 4,
 "nbformat_minor": 4
}
