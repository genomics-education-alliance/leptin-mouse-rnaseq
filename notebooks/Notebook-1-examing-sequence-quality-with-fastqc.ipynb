{
 "cells": [
  {
   "cell_type": "markdown",
   "metadata": {},
   "source": [
    "# Running FastQC"
   ]
  },
  {
   "cell_type": "markdown",
   "metadata": {},
   "source": [
    "Now, we are ready to analyze our data. Move into the ‘seqData’ directory in the project folder,\n",
    "this will keep all of our results together, instead of each running it in our own home folder."
   ]
  },
  {
   "cell_type": "markdown",
   "metadata": {},
   "source": [
    "Now let's check the content of our `fastq` folder - these are the pre-imported files we want to do quality checks on."
   ]
  },
  {
   "cell_type": "code",
   "execution_count": null,
   "metadata": {},
   "outputs": [],
   "source": [
    "ls /home/gea_user/data/pre-imported/sra-fastq"
   ]
  },
  {
   "cell_type": "markdown",
   "metadata": {},
   "source": [
    "As you can see, we have 6 [fastq files](https://en.wikipedia.org/wiki/FASTQ_format) to analyze. To get the data, we will use a program called [fastqc](https://www.bioinformatics.babraham.ac.uk/projects/fastqc/). To run the program we use the command `fastqc` and the name of the file we wish to analyze. We will move into the directory where are data are stored. "
   ]
  },
  {
   "cell_type": "code",
   "execution_count": null,
   "metadata": {},
   "outputs": [],
   "source": [
    "cd /home/gea_user/data/pre-imported/sra-fastq"
   ]
  },
  {
   "cell_type": "markdown",
   "metadata": {},
   "source": [
    "We will analyze one file to get familiar with the fastqc output (this file is almost 5GB so this may take a few minutes to complete):"
   ]
  },
  {
   "cell_type": "code",
   "execution_count": null,
   "metadata": {},
   "outputs": [],
   "source": [
    "fastqc SRR5017128.fastq.gz"
   ]
  },
  {
   "cell_type": "markdown",
   "metadata": {},
   "source": [
    "Our output is returned in two files:\n",
    " 1. An .html file (than can be viewed as a webpage)\n",
    " 2. A .zip file that contains individual images and reports"
   ]
  },
  {
   "cell_type": "code",
   "execution_count": null,
   "metadata": {},
   "outputs": [],
   "source": [
    "ls *.html && ls *.zip"
   ]
  },
  {
   "cell_type": "markdown",
   "metadata": {},
   "source": [
    "We can make a new directory to place these results in "
   ]
  },
  {
   "cell_type": "code",
   "execution_count": null,
   "metadata": {},
   "outputs": [],
   "source": [
    "mkdir -p /home/gea_user/rna-seq-project/fastqc-results"
   ]
  },
  {
   "cell_type": "markdown",
   "metadata": {},
   "source": [
    "Now let's move these results to the new directory"
   ]
  },
  {
   "cell_type": "code",
   "execution_count": null,
   "metadata": {},
   "outputs": [],
   "source": [
    "mv *.zip /home/gea_user/rna-seq-project/fastqc-results\n",
    "mv *.html /home/gea_user/rna-seq-project/fastqc-results"
   ]
  },
  {
   "cell_type": "markdown",
   "metadata": {},
   "source": [
    "You can browse your HTML (webpage) results in the file browser on the left (rna-seq-project > fastqc-results). "
   ]
  },
  {
   "cell_type": "markdown",
   "metadata": {},
   "source": [
    "We will run fastqc on all our files and examine the output in the next notebook:"
   ]
  },
  {
   "cell_type": "code",
   "execution_count": null,
   "metadata": {},
   "outputs": [],
   "source": [
    "fastqc SRR5017129.fastq.gz\n",
    "fastqc SRR5017132.fastq.gz\n",
    "fastqc SRR5017136.fastq.gz\n",
    "fastqc SRR5017138.fastq.gz\n",
    "fastqc SRR5017139.fastq.gz"
   ]
  },
  {
   "cell_type": "markdown",
   "metadata": {},
   "source": [
    "Let's move all results to our previously created folder:"
   ]
  },
  {
   "cell_type": "code",
   "execution_count": null,
   "metadata": {},
   "outputs": [],
   "source": [
    "mv *.zip /home/gea_user/rna-seq-project/fastqc-results\n",
    "mv *.html /home/gea_user/rna-seq-project/fastqc-results"
   ]
  }
 ],
 "metadata": {
  "kernelspec": {
   "display_name": "Bash",
   "language": "bash",
   "name": "bash"
  },
  "language_info": {
   "codemirror_mode": "shell",
   "file_extension": ".sh",
   "mimetype": "text/x-sh",
   "name": "bash"
  }
 },
 "nbformat": 4,
 "nbformat_minor": 4
}
