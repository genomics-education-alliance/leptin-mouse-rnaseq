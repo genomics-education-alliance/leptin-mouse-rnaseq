{
 "cells": [
  {
   "cell_type": "markdown",
   "metadata": {},
   "source": [
    "# Quality check and filtering with fastp\n",
    "\n",
    "An alternative to `fastqc` is another program called [fastp](https://github.com/OpenGene/fastp#simple-usage). This program allows you to both examine the quality of your reads as well as trim reads simultaneously"
   ]
  },
  {
   "cell_type": "markdown",
   "metadata": {},
   "source": [
    "Our untrimmed reads are in `/home/gea_user/fastq`"
   ]
  },
  {
   "cell_type": "code",
   "execution_count": null,
   "metadata": {
    "collapsed": true
   },
   "outputs": [],
   "source": [
    "ls /home/gea_user/data/pre-imported/sra-fastq"
   ]
  },
  {
   "cell_type": "markdown",
   "metadata": {},
   "source": [
    "We can run fastp specifying the following options: \n",
    "\n",
    "- `-i`: name of our input file (we will have a filename variable called `$input`)\n",
    "- `-o`: name of our output file (we will have a filename variable that will be `filename_fastp_trimmed.gz`)\n",
    "- `-q`: quality phred limit - the [phred](https://en.wikipedia.org/wiki/Phred_quality_score) quality value that a base is qualified (we will set this to a score of 30 - `-q 30`).\n",
    "- `-l`: Minimum length requirement (we will set this to 75 nucleotides - `-l 75`)\n",
    "- `-h`: Produce a report in the html output (we will have a file name variable `$input` and we will name our report with the filename - `-h $filename_fastp_trimmed.gz_report.html`\n",
    "- `-w`: Threads (we will set this to 8 - `-w 8` since CyVerse nodes will typically have 8 CPUs)"
   ]
  },
  {
   "cell_type": "code",
   "execution_count": null,
   "metadata": {
    "collapsed": true
   },
   "outputs": [],
   "source": [
    "for input in /home/gea_user/data/pre-imported/sra-fastq/*.fastq.gz\n",
    " do\n",
    " output=$(basename --suffix=.fastq.gz $input)_fastp_trimmed.gz\n",
    " echo $input\n",
    " htmlreporttitle=$output\\_report.html\n",
    " jsonreporttitle=$output\\_report.json\n",
    " fastp -h $htmlreporttitle\\\n",
    "  -j $jsonreporttitle\\\n",
    "  -i $input\\\n",
    "  -o $output\\\n",
    "  -q 30\\\n",
    "  -l 75\\\n",
    "  -w 8\n",
    " done"
   ]
  },
  {
   "cell_type": "markdown",
   "metadata": {},
   "source": [
    "We now have 18 output files - the `.html` files contain a report with tables and graphs and the `.json` files are a text-based format with similar summary information. Let's organize the files by creating new directories for them. The files ending in `_fastp_trimmed.gz` are the sequence reads that have been trimmed and are ready for alignment with Kallisto. "
   ]
  },
  {
   "cell_type": "code",
   "execution_count": null,
   "metadata": {
    "collapsed": true
   },
   "outputs": [],
   "source": [
    "mkdir -p /home/gea_user/rna-seq-project/fastp-results\n",
    "mkdir -p /home/gea_user/rna-seq-project/fastp-trimmed\n",
    "mv *.html /home/gea_user/rna-seq-project/fastp-results\n",
    "mv *.json /home/gea_user/rna-seq-project/fastp-results\n",
    "mv *_fastp_trimmed.gz /home/gea_user/rna-seq-project/fastp-trimmed"
   ]
  },
  {
   "cell_type": "markdown",
   "metadata": {},
   "source": [
    "The analysis reports from `fastp` are here:"
   ]
  },
  {
   "cell_type": "code",
   "execution_count": null,
   "metadata": {
    "collapsed": true
   },
   "outputs": [],
   "source": [
    "ls /home/gea_user/rna-seq-project/fastp-results"
   ]
  },
  {
   "cell_type": "markdown",
   "metadata": {},
   "source": [
    "The trimmed reads from `fastp` are here (and ready to be used in the Kallisto notebook):"
   ]
  },
  {
   "cell_type": "code",
   "execution_count": null,
   "metadata": {
    "collapsed": true
   },
   "outputs": [],
   "source": [
    "ls /home/gea_user/rna-seq-project/fastp-trimmed"
   ]
  }
 ],
 "metadata": {
  "kernelspec": {
   "display_name": "Bash",
   "language": "bash",
   "name": "bash"
  },
  "language_info": {
   "codemirror_mode": "shell",
   "file_extension": ".sh",
   "mimetype": "text/x-sh",
   "name": "bash"
  }
 },
 "nbformat": 4,
 "nbformat_minor": 4
}
